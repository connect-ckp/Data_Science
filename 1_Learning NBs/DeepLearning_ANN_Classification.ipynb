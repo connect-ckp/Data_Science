{
 "cells": [
  {
   "cell_type": "markdown",
   "metadata": {},
   "source": [
    "# Artificial Neural Networks (ANN) for Classification"
   ]
  },
  {
   "cell_type": "markdown",
   "metadata": {},
   "source": [
    "**Importing the libraries**"
   ]
  },
  {
   "cell_type": "code",
   "execution_count": 45,
   "metadata": {},
   "outputs": [],
   "source": [
    "import numpy as np\n",
    "import pandas as pd\n",
    "import tensorflow as tf"
   ]
  },
  {
   "cell_type": "code",
   "execution_count": 46,
   "metadata": {},
   "outputs": [
    {
     "data": {
      "text/plain": [
       "'1.14.0'"
      ]
     },
     "execution_count": 46,
     "metadata": {},
     "output_type": "execute_result"
    }
   ],
   "source": [
    "tf.__version__"
   ]
  },
  {
   "cell_type": "markdown",
   "metadata": {},
   "source": [
    "# 1. Data Preprocessing"
   ]
  },
  {
   "cell_type": "markdown",
   "metadata": {},
   "source": [
    "**Importing Dataset**"
   ]
  },
  {
   "cell_type": "code",
   "execution_count": 34,
   "metadata": {},
   "outputs": [],
   "source": [
    "dataset = pd.read_csv(\"./Data/Churn_Modelling.csv\")\n",
    "X = dataset.iloc[:,3:-1].values\n",
    "y = dataset.iloc[:,-1].values"
   ]
  },
  {
   "cell_type": "code",
   "execution_count": 35,
   "metadata": {},
   "outputs": [
    {
     "data": {
      "text/html": [
       "<div>\n",
       "<style scoped>\n",
       "    .dataframe tbody tr th:only-of-type {\n",
       "        vertical-align: middle;\n",
       "    }\n",
       "\n",
       "    .dataframe tbody tr th {\n",
       "        vertical-align: top;\n",
       "    }\n",
       "\n",
       "    .dataframe thead th {\n",
       "        text-align: right;\n",
       "    }\n",
       "</style>\n",
       "<table border=\"1\" class=\"dataframe\">\n",
       "  <thead>\n",
       "    <tr style=\"text-align: right;\">\n",
       "      <th></th>\n",
       "      <th>RowNumber</th>\n",
       "      <th>CustomerId</th>\n",
       "      <th>Surname</th>\n",
       "      <th>CreditScore</th>\n",
       "      <th>Geography</th>\n",
       "      <th>Gender</th>\n",
       "      <th>Age</th>\n",
       "      <th>Tenure</th>\n",
       "      <th>Balance</th>\n",
       "      <th>NumOfProducts</th>\n",
       "      <th>HasCrCard</th>\n",
       "      <th>IsActiveMember</th>\n",
       "      <th>EstimatedSalary</th>\n",
       "      <th>Exited</th>\n",
       "    </tr>\n",
       "  </thead>\n",
       "  <tbody>\n",
       "    <tr>\n",
       "      <th>0</th>\n",
       "      <td>1</td>\n",
       "      <td>15634602</td>\n",
       "      <td>Hargrave</td>\n",
       "      <td>619</td>\n",
       "      <td>France</td>\n",
       "      <td>Female</td>\n",
       "      <td>42</td>\n",
       "      <td>2</td>\n",
       "      <td>0.00</td>\n",
       "      <td>1</td>\n",
       "      <td>1</td>\n",
       "      <td>1</td>\n",
       "      <td>101348.88</td>\n",
       "      <td>1</td>\n",
       "    </tr>\n",
       "    <tr>\n",
       "      <th>1</th>\n",
       "      <td>2</td>\n",
       "      <td>15647311</td>\n",
       "      <td>Hill</td>\n",
       "      <td>608</td>\n",
       "      <td>Spain</td>\n",
       "      <td>Female</td>\n",
       "      <td>41</td>\n",
       "      <td>1</td>\n",
       "      <td>83807.86</td>\n",
       "      <td>1</td>\n",
       "      <td>0</td>\n",
       "      <td>1</td>\n",
       "      <td>112542.58</td>\n",
       "      <td>0</td>\n",
       "    </tr>\n",
       "    <tr>\n",
       "      <th>2</th>\n",
       "      <td>3</td>\n",
       "      <td>15619304</td>\n",
       "      <td>Onio</td>\n",
       "      <td>502</td>\n",
       "      <td>France</td>\n",
       "      <td>Female</td>\n",
       "      <td>42</td>\n",
       "      <td>8</td>\n",
       "      <td>159660.80</td>\n",
       "      <td>3</td>\n",
       "      <td>1</td>\n",
       "      <td>0</td>\n",
       "      <td>113931.57</td>\n",
       "      <td>1</td>\n",
       "    </tr>\n",
       "    <tr>\n",
       "      <th>3</th>\n",
       "      <td>4</td>\n",
       "      <td>15701354</td>\n",
       "      <td>Boni</td>\n",
       "      <td>699</td>\n",
       "      <td>France</td>\n",
       "      <td>Female</td>\n",
       "      <td>39</td>\n",
       "      <td>1</td>\n",
       "      <td>0.00</td>\n",
       "      <td>2</td>\n",
       "      <td>0</td>\n",
       "      <td>0</td>\n",
       "      <td>93826.63</td>\n",
       "      <td>0</td>\n",
       "    </tr>\n",
       "    <tr>\n",
       "      <th>4</th>\n",
       "      <td>5</td>\n",
       "      <td>15737888</td>\n",
       "      <td>Mitchell</td>\n",
       "      <td>850</td>\n",
       "      <td>Spain</td>\n",
       "      <td>Female</td>\n",
       "      <td>43</td>\n",
       "      <td>2</td>\n",
       "      <td>125510.82</td>\n",
       "      <td>1</td>\n",
       "      <td>1</td>\n",
       "      <td>1</td>\n",
       "      <td>79084.10</td>\n",
       "      <td>0</td>\n",
       "    </tr>\n",
       "  </tbody>\n",
       "</table>\n",
       "</div>"
      ],
      "text/plain": [
       "   RowNumber  CustomerId   Surname  CreditScore Geography  Gender  Age  \\\n",
       "0          1    15634602  Hargrave          619    France  Female   42   \n",
       "1          2    15647311      Hill          608     Spain  Female   41   \n",
       "2          3    15619304      Onio          502    France  Female   42   \n",
       "3          4    15701354      Boni          699    France  Female   39   \n",
       "4          5    15737888  Mitchell          850     Spain  Female   43   \n",
       "\n",
       "   Tenure    Balance  NumOfProducts  HasCrCard  IsActiveMember  \\\n",
       "0       2       0.00              1          1               1   \n",
       "1       1   83807.86              1          0               1   \n",
       "2       8  159660.80              3          1               0   \n",
       "3       1       0.00              2          0               0   \n",
       "4       2  125510.82              1          1               1   \n",
       "\n",
       "   EstimatedSalary  Exited  \n",
       "0        101348.88       1  \n",
       "1        112542.58       0  \n",
       "2        113931.57       1  \n",
       "3         93826.63       0  \n",
       "4         79084.10       0  "
      ]
     },
     "execution_count": 35,
     "metadata": {},
     "output_type": "execute_result"
    }
   ],
   "source": [
    "dataset.head()"
   ]
  },
  {
   "cell_type": "markdown",
   "metadata": {},
   "source": [
    "**Encoding categorical data**\n",
    "- **Label Encoding the \"Gender\" column**"
   ]
  },
  {
   "cell_type": "code",
   "execution_count": 36,
   "metadata": {},
   "outputs": [
    {
     "name": "stdout",
     "output_type": "stream",
     "text": [
      "[[619 'France' 'Female' ... 1 1 101348.88]\n",
      " [608 'Spain' 'Female' ... 0 1 112542.58]\n",
      " [502 'France' 'Female' ... 1 0 113931.57]\n",
      " ...\n",
      " [709 'France' 'Female' ... 0 1 42085.58]\n",
      " [772 'Germany' 'Male' ... 1 0 92888.52]\n",
      " [792 'France' 'Female' ... 1 0 38190.78]]\n"
     ]
    }
   ],
   "source": [
    "print(X)"
   ]
  },
  {
   "cell_type": "code",
   "execution_count": 37,
   "metadata": {},
   "outputs": [
    {
     "name": "stdout",
     "output_type": "stream",
     "text": [
      "[[619 'France' 0 ... 1 1 101348.88]\n",
      " [608 'Spain' 0 ... 0 1 112542.58]\n",
      " [502 'France' 0 ... 1 0 113931.57]\n",
      " ...\n",
      " [709 'France' 0 ... 0 1 42085.58]\n",
      " [772 'Germany' 1 ... 1 0 92888.52]\n",
      " [792 'France' 0 ... 1 0 38190.78]]\n"
     ]
    }
   ],
   "source": [
    "from sklearn.preprocessing import LabelEncoder\n",
    "le = LabelEncoder()\n",
    "X[:, 2] = le.fit_transform(X[:, 2])\n",
    "print(X)"
   ]
  },
  {
   "cell_type": "markdown",
   "metadata": {},
   "source": [
    "- **One Hot Encoding the \"Geography\" column**"
   ]
  },
  {
   "cell_type": "code",
   "execution_count": 38,
   "metadata": {},
   "outputs": [],
   "source": [
    "from sklearn.compose import ColumnTransformer\n",
    "from sklearn.preprocessing import OneHotEncoder\n",
    "ct = ColumnTransformer(transformers = [('encoder', OneHotEncoder(),[1])], remainder = 'passthrough')\n",
    "X = ct.fit_transform(X)"
   ]
  },
  {
   "cell_type": "code",
   "execution_count": 40,
   "metadata": {},
   "outputs": [
    {
     "name": "stdout",
     "output_type": "stream",
     "text": [
      "[[1.0 0.0 0.0 ... 1 1 101348.88]\n",
      " [0.0 0.0 1.0 ... 0 1 112542.58]\n",
      " [1.0 0.0 0.0 ... 1 0 113931.57]\n",
      " ...\n",
      " [1.0 0.0 0.0 ... 0 1 42085.58]\n",
      " [0.0 1.0 0.0 ... 1 0 92888.52]\n",
      " [1.0 0.0 0.0 ... 1 0 38190.78]]\n"
     ]
    }
   ],
   "source": [
    "print(X)"
   ]
  },
  {
   "cell_type": "markdown",
   "metadata": {},
   "source": [
    "**Splitting the dataset into the Training set and Test set**"
   ]
  },
  {
   "cell_type": "code",
   "execution_count": 41,
   "metadata": {},
   "outputs": [],
   "source": [
    "from sklearn.model_selection import train_test_split\n",
    "X_train, X_test, y_train, y_test = train_test_split(X,y,test_size=0.2, random_state = 0)"
   ]
  },
  {
   "cell_type": "markdown",
   "metadata": {},
   "source": [
    "**Feature Scaling**<br>\n",
    "<i><u>Note</u>: Feature Scaling is mandatory for Neural Networks.</i>"
   ]
  },
  {
   "cell_type": "code",
   "execution_count": 44,
   "metadata": {},
   "outputs": [],
   "source": [
    "from sklearn.preprocessing import StandardScaler\n",
    "sc = StandardScaler()\n",
    "X_train = sc.fit_transform(X_train)\n",
    "X_test = sc.transform(X_test)"
   ]
  },
  {
   "cell_type": "markdown",
   "metadata": {},
   "source": [
    "# 2. Building the ANN"
   ]
  },
  {
   "cell_type": "markdown",
   "metadata": {},
   "source": [
    "**Initializing the ANN**"
   ]
  },
  {
   "cell_type": "code",
   "execution_count": 53,
   "metadata": {},
   "outputs": [],
   "source": [
    "ann = tf.keras.models.Sequential()"
   ]
  },
  {
   "cell_type": "markdown",
   "metadata": {},
   "source": [
    "**Adding the input layer and the first hidden layer**"
   ]
  },
  {
   "cell_type": "code",
   "execution_count": 55,
   "metadata": {},
   "outputs": [],
   "source": [
    "ann.add(tf.keras.layers.Dense(units = 6, activation = 'relu'))"
   ]
  },
  {
   "cell_type": "markdown",
   "metadata": {},
   "source": [
    "**Adding the second hidden layer**"
   ]
  },
  {
   "cell_type": "code",
   "execution_count": 57,
   "metadata": {},
   "outputs": [],
   "source": [
    "ann.add(tf.keras.layers.Dense(units = 6, activation = 'relu'))"
   ]
  },
  {
   "cell_type": "markdown",
   "metadata": {},
   "source": [
    "**Adding the output layer**"
   ]
  },
  {
   "cell_type": "code",
   "execution_count": 58,
   "metadata": {},
   "outputs": [],
   "source": [
    "ann.add(tf.keras.layers.Dense(units = 1, activation = 'sigmoid'))"
   ]
  },
  {
   "cell_type": "markdown",
   "metadata": {},
   "source": [
    "# 3. Training the ANN"
   ]
  },
  {
   "cell_type": "markdown",
   "metadata": {},
   "source": [
    "**Compiling the ANN**"
   ]
  },
  {
   "cell_type": "code",
   "execution_count": 61,
   "metadata": {},
   "outputs": [],
   "source": [
    "ann.compile(optimizer = 'adam', loss = 'binary_crossentropy', metrics = ['accuracy'])"
   ]
  },
  {
   "cell_type": "markdown",
   "metadata": {},
   "source": [
    "**Training the ANN on the Training set**"
   ]
  },
  {
   "cell_type": "code",
   "execution_count": 62,
   "metadata": {},
   "outputs": [
    {
     "name": "stdout",
     "output_type": "stream",
     "text": [
      "WARNING:tensorflow:From E:\\_InstalledPrograms\\Anaconda3\\lib\\site-packages\\tensorflow\\python\\ops\\nn_impl.py:180: add_dispatch_support.<locals>.wrapper (from tensorflow.python.ops.array_ops) is deprecated and will be removed in a future version.\n",
      "Instructions for updating:\n",
      "Use tf.where in 2.0, which has the same broadcast rule as np.where\n",
      "Epoch 1/100\n",
      "8000/8000 [==============================] - 1s 98us/sample - loss: 0.7310 - acc: 0.5216\n",
      "Epoch 2/100\n",
      "8000/8000 [==============================] - 1s 70us/sample - loss: 0.4882 - acc: 0.7960\n",
      "Epoch 3/100\n",
      "8000/8000 [==============================] - 1s 71us/sample - loss: 0.4374 - acc: 0.8140\n",
      "Epoch 4/100\n",
      "8000/8000 [==============================] - 1s 102us/sample - loss: 0.4237 - acc: 0.8202\n",
      "Epoch 5/100\n",
      "8000/8000 [==============================] - 1s 72us/sample - loss: 0.4063 - acc: 0.8273\n",
      "Epoch 6/100\n",
      "8000/8000 [==============================] - 1s 87us/sample - loss: 0.3870 - acc: 0.8351\n",
      "Epoch 7/100\n",
      "8000/8000 [==============================] - 1s 80us/sample - loss: 0.3730 - acc: 0.8453\n",
      "Epoch 8/100\n",
      "8000/8000 [==============================] - 1s 88us/sample - loss: 0.3646 - acc: 0.8491\n",
      "Epoch 9/100\n",
      "8000/8000 [==============================] - 1s 82us/sample - loss: 0.3598 - acc: 0.8491\n",
      "Epoch 10/100\n",
      "8000/8000 [==============================] - 1s 78us/sample - loss: 0.3555 - acc: 0.8521\n",
      "Epoch 11/100\n",
      "8000/8000 [==============================] - 1s 84us/sample - loss: 0.3536 - acc: 0.8545\n",
      "Epoch 12/100\n",
      "8000/8000 [==============================] - 1s 77us/sample - loss: 0.3508 - acc: 0.8546\n",
      "Epoch 13/100\n",
      "8000/8000 [==============================] - 1s 75us/sample - loss: 0.3493 - acc: 0.8562\n",
      "Epoch 14/100\n",
      "8000/8000 [==============================] - 1s 84us/sample - loss: 0.3477 - acc: 0.8570\n",
      "Epoch 15/100\n",
      "8000/8000 [==============================] - 1s 107us/sample - loss: 0.3467 - acc: 0.8571\n",
      "Epoch 16/100\n",
      "8000/8000 [==============================] - 1s 102us/sample - loss: 0.3454 - acc: 0.8590\n",
      "Epoch 17/100\n",
      "8000/8000 [==============================] - 1s 89us/sample - loss: 0.3450 - acc: 0.8587\n",
      "Epoch 18/100\n",
      "8000/8000 [==============================] - 1s 82us/sample - loss: 0.3432 - acc: 0.8604\n",
      "Epoch 19/100\n",
      "8000/8000 [==============================] - 1s 94us/sample - loss: 0.3428 - acc: 0.8616\n",
      "Epoch 20/100\n",
      "8000/8000 [==============================] - 1s 81us/sample - loss: 0.3428 - acc: 0.8597\n",
      "Epoch 21/100\n",
      "8000/8000 [==============================] - 1s 79us/sample - loss: 0.3415 - acc: 0.8615\n",
      "Epoch 22/100\n",
      "8000/8000 [==============================] - 1s 83us/sample - loss: 0.3402 - acc: 0.8605\n",
      "Epoch 23/100\n",
      "8000/8000 [==============================] - 1s 83us/sample - loss: 0.3401 - acc: 0.8608\n",
      "Epoch 24/100\n",
      "8000/8000 [==============================] - 1s 74us/sample - loss: 0.3396 - acc: 0.8621\n",
      "Epoch 25/100\n",
      "8000/8000 [==============================] - 1s 72us/sample - loss: 0.3386 - acc: 0.8621\n",
      "Epoch 26/100\n",
      "8000/8000 [==============================] - 1s 69us/sample - loss: 0.3382 - acc: 0.8605\n",
      "Epoch 27/100\n",
      "8000/8000 [==============================] - 1s 69us/sample - loss: 0.3382 - acc: 0.8610\n",
      "Epoch 28/100\n",
      "8000/8000 [==============================] - 1s 71us/sample - loss: 0.3375 - acc: 0.8644\n",
      "Epoch 29/100\n",
      "8000/8000 [==============================] - 1s 69us/sample - loss: 0.3374 - acc: 0.8622\n",
      "Epoch 30/100\n",
      "8000/8000 [==============================] - 1s 69us/sample - loss: 0.3370 - acc: 0.8631\n",
      "Epoch 31/100\n",
      "8000/8000 [==============================] - 1s 74us/sample - loss: 0.3372 - acc: 0.8636\n",
      "Epoch 32/100\n",
      "8000/8000 [==============================] - 1s 72us/sample - loss: 0.3367 - acc: 0.8640\n",
      "Epoch 33/100\n",
      "8000/8000 [==============================] - 1s 68us/sample - loss: 0.3369 - acc: 0.8627\n",
      "Epoch 34/100\n",
      "8000/8000 [==============================] - 1s 70us/sample - loss: 0.3361 - acc: 0.8630\n",
      "Epoch 35/100\n",
      "8000/8000 [==============================] - 1s 69us/sample - loss: 0.3357 - acc: 0.8655\n",
      "Epoch 36/100\n",
      "8000/8000 [==============================] - 1s 68us/sample - loss: 0.3358 - acc: 0.8625\n",
      "Epoch 37/100\n",
      "8000/8000 [==============================] - 1s 71us/sample - loss: 0.3357 - acc: 0.8646\n",
      "Epoch 38/100\n",
      "8000/8000 [==============================] - 1s 70us/sample - loss: 0.3360 - acc: 0.8631\n",
      "Epoch 39/100\n",
      "8000/8000 [==============================] - 1s 69us/sample - loss: 0.3358 - acc: 0.8652\n",
      "Epoch 40/100\n",
      "8000/8000 [==============================] - 1s 69us/sample - loss: 0.3354 - acc: 0.8641\n",
      "Epoch 41/100\n",
      "8000/8000 [==============================] - 1s 70us/sample - loss: 0.3354 - acc: 0.8634\n",
      "Epoch 42/100\n",
      "8000/8000 [==============================] - 1s 69us/sample - loss: 0.3357 - acc: 0.8627\n",
      "Epoch 43/100\n",
      "8000/8000 [==============================] - 1s 70us/sample - loss: 0.3348 - acc: 0.8641\n",
      "Epoch 44/100\n",
      "8000/8000 [==============================] - 1s 75us/sample - loss: 0.3349 - acc: 0.8637\n",
      "Epoch 45/100\n",
      "8000/8000 [==============================] - 1s 72us/sample - loss: 0.3347 - acc: 0.8641\n",
      "Epoch 46/100\n",
      "8000/8000 [==============================] - 1s 69us/sample - loss: 0.3345 - acc: 0.8643\n",
      "Epoch 47/100\n",
      "8000/8000 [==============================] - 1s 72us/sample - loss: 0.3345 - acc: 0.8639\n",
      "Epoch 48/100\n",
      "8000/8000 [==============================] - 1s 72us/sample - loss: 0.3348 - acc: 0.8649\n",
      "Epoch 49/100\n",
      "8000/8000 [==============================] - 1s 72us/sample - loss: 0.3342 - acc: 0.8641\n",
      "Epoch 50/100\n",
      "8000/8000 [==============================] - 1s 72us/sample - loss: 0.3343 - acc: 0.8635\n",
      "Epoch 51/100\n",
      "8000/8000 [==============================] - 1s 69us/sample - loss: 0.3349 - acc: 0.8634\n",
      "Epoch 52/100\n",
      "8000/8000 [==============================] - 1s 73us/sample - loss: 0.3345 - acc: 0.8630\n",
      "Epoch 53/100\n",
      "8000/8000 [==============================] - 1s 71us/sample - loss: 0.3338 - acc: 0.8636\n",
      "Epoch 54/100\n",
      "8000/8000 [==============================] - 1s 70us/sample - loss: 0.3340 - acc: 0.8639\n",
      "Epoch 55/100\n",
      "8000/8000 [==============================] - 1s 68us/sample - loss: 0.3337 - acc: 0.8626\n",
      "Epoch 56/100\n",
      "8000/8000 [==============================] - 1s 70us/sample - loss: 0.3342 - acc: 0.8635\n",
      "Epoch 57/100\n",
      "8000/8000 [==============================] - 1s 69us/sample - loss: 0.3342 - acc: 0.8644\n",
      "Epoch 58/100\n",
      "8000/8000 [==============================] - 1s 73us/sample - loss: 0.3340 - acc: 0.8631\n",
      "Epoch 59/100\n",
      "8000/8000 [==============================] - 1s 70us/sample - loss: 0.3340 - acc: 0.8631\n",
      "Epoch 60/100\n",
      "8000/8000 [==============================] - 1s 72us/sample - loss: 0.3340 - acc: 0.8635\n",
      "Epoch 61/100\n",
      "8000/8000 [==============================] - 1s 111us/sample - loss: 0.3338 - acc: 0.8646\n",
      "Epoch 62/100\n",
      "8000/8000 [==============================] - 1s 84us/sample - loss: 0.3339 - acc: 0.8637\n",
      "Epoch 63/100\n",
      "8000/8000 [==============================] - 1s 117us/sample - loss: 0.3337 - acc: 0.8655\n",
      "Epoch 64/100\n",
      "8000/8000 [==============================] - 1s 92us/sample - loss: 0.3336 - acc: 0.8639\n",
      "Epoch 65/100\n",
      "8000/8000 [==============================] - 1s 63us/sample - loss: 0.3340 - acc: 0.8634\n",
      "Epoch 66/100\n",
      "8000/8000 [==============================] - 1s 72us/sample - loss: 0.3329 - acc: 0.8633\n",
      "Epoch 67/100\n",
      "8000/8000 [==============================] - 1s 67us/sample - loss: 0.3337 - acc: 0.8622\n",
      "Epoch 68/100\n",
      "8000/8000 [==============================] - 1s 85us/sample - loss: 0.3337 - acc: 0.8625\n",
      "Epoch 69/100\n",
      "8000/8000 [==============================] - 1s 76us/sample - loss: 0.3335 - acc: 0.8646\n",
      "Epoch 70/100\n",
      "8000/8000 [==============================] - 1s 67us/sample - loss: 0.3340 - acc: 0.8629\n",
      "Epoch 71/100\n",
      "8000/8000 [==============================] - 1s 66us/sample - loss: 0.3334 - acc: 0.8629\n",
      "Epoch 72/100\n",
      "8000/8000 [==============================] - 1s 68us/sample - loss: 0.3336 - acc: 0.86340s - loss: 0.3231 - acc\n",
      "Epoch 73/100\n",
      "8000/8000 [==============================] - 1s 64us/sample - loss: 0.3334 - acc: 0.8640\n",
      "Epoch 74/100\n",
      "8000/8000 [==============================] - 1s 70us/sample - loss: 0.3337 - acc: 0.8640\n",
      "Epoch 75/100\n",
      "8000/8000 [==============================] - 1s 66us/sample - loss: 0.3329 - acc: 0.8649\n",
      "Epoch 76/100\n",
      "8000/8000 [==============================] - 1s 69us/sample - loss: 0.3330 - acc: 0.8645\n",
      "Epoch 77/100\n",
      "8000/8000 [==============================] - 1s 68us/sample - loss: 0.3337 - acc: 0.8639\n",
      "Epoch 78/100\n",
      "8000/8000 [==============================] - 1s 68us/sample - loss: 0.3330 - acc: 0.8637\n",
      "Epoch 79/100\n",
      "8000/8000 [==============================] - 1s 71us/sample - loss: 0.3331 - acc: 0.8627\n",
      "Epoch 80/100\n",
      "8000/8000 [==============================] - 1s 73us/sample - loss: 0.3330 - acc: 0.8631\n",
      "Epoch 81/100\n",
      "8000/8000 [==============================] - 1s 71us/sample - loss: 0.3329 - acc: 0.8636\n",
      "Epoch 82/100\n",
      "8000/8000 [==============================] - 1s 71us/sample - loss: 0.3326 - acc: 0.8635\n",
      "Epoch 83/100\n",
      "8000/8000 [==============================] - 1s 69us/sample - loss: 0.3324 - acc: 0.8635\n",
      "Epoch 84/100\n",
      "8000/8000 [==============================] - 1s 72us/sample - loss: 0.3327 - acc: 0.8631\n",
      "Epoch 85/100\n",
      "8000/8000 [==============================] - 1s 68us/sample - loss: 0.3326 - acc: 0.8631\n",
      "Epoch 86/100\n",
      "8000/8000 [==============================] - 1s 69us/sample - loss: 0.3326 - acc: 0.8633\n",
      "Epoch 87/100\n",
      "8000/8000 [==============================] - 1s 68us/sample - loss: 0.3327 - acc: 0.8631\n",
      "Epoch 88/100\n",
      "8000/8000 [==============================] - 1s 70us/sample - loss: 0.3329 - acc: 0.8636\n",
      "Epoch 89/100\n",
      "8000/8000 [==============================] - 1s 73us/sample - loss: 0.3324 - acc: 0.8641\n",
      "Epoch 90/100\n",
      "8000/8000 [==============================] - 1s 68us/sample - loss: 0.3323 - acc: 0.8645\n",
      "Epoch 91/100\n",
      "8000/8000 [==============================] - 1s 68us/sample - loss: 0.3320 - acc: 0.8634\n",
      "Epoch 92/100\n",
      "8000/8000 [==============================] - 1s 92us/sample - loss: 0.3326 - acc: 0.8624\n",
      "Epoch 93/100\n",
      "8000/8000 [==============================] - 1s 68us/sample - loss: 0.3320 - acc: 0.8636\n",
      "Epoch 94/100\n",
      "8000/8000 [==============================] - 1s 73us/sample - loss: 0.3323 - acc: 0.8645\n",
      "Epoch 95/100\n",
      "8000/8000 [==============================] - 1s 69us/sample - loss: 0.3324 - acc: 0.8625\n",
      "Epoch 96/100\n",
      "8000/8000 [==============================] - 1s 94us/sample - loss: 0.3317 - acc: 0.8643\n",
      "Epoch 97/100\n",
      "8000/8000 [==============================] - 1s 84us/sample - loss: 0.3323 - acc: 0.8635\n",
      "Epoch 98/100\n",
      "8000/8000 [==============================] - 1s 77us/sample - loss: 0.3320 - acc: 0.8626\n",
      "Epoch 99/100\n",
      "8000/8000 [==============================] - 1s 77us/sample - loss: 0.3326 - acc: 0.8624\n",
      "Epoch 100/100\n",
      "8000/8000 [==============================] - 1s 78us/sample - loss: 0.3316 - acc: 0.8630\n"
     ]
    },
    {
     "data": {
      "text/plain": [
       "<tensorflow.python.keras.callbacks.History at 0x278ab75df88>"
      ]
     },
     "execution_count": 62,
     "metadata": {},
     "output_type": "execute_result"
    }
   ],
   "source": [
    "ann.fit(X_train, y_train, batch_size = 32, epochs = 100)"
   ]
  },
  {
   "cell_type": "markdown",
   "metadata": {},
   "source": [
    "# 4. Making the predictions and evaluating the model"
   ]
  },
  {
   "cell_type": "markdown",
   "metadata": {},
   "source": [
    "**Predicting the result of a single observation**<br>\n",
    "<pre>\n",
    "Use our ANN model to predict if the customer with the following informations will leave the bank: \n",
    "Geography: France\n",
    "Credit Score: 600\n",
    "Gender: Male\n",
    "Age: 40 years old\n",
    "Tenure: 3 years\n",
    "Balance: $ 60000\n",
    "Number of Products: 2\n",
    "Does this customer have a credit card? Yes\n",
    "Is this customer an Active Member: Yes\n",
    "Estimated Salary: $ 50000\n",
    "\n",
    "So, should we say goodbye to that customer?\n",
    "</pre>"
   ]
  },
  {
   "cell_type": "code",
   "execution_count": 66,
   "metadata": {},
   "outputs": [
    {
     "name": "stdout",
     "output_type": "stream",
     "text": [
      "[[False]]\n"
     ]
    }
   ],
   "source": [
    "print(ann.predict(sc.transform([[1, 0, 0, 600, 1, 40, 3, 60000, 2, 1, 1, 50000]])) > 0.5)"
   ]
  },
  {
   "cell_type": "markdown",
   "metadata": {},
   "source": [
    "Therefore, our ANN model predicts that this customer stays in the bank.<br>\n",
    "<u>Note 1</u>:<br>Notice that the values of the features were all input in a double pair of square brackets. That's because the \"predict\" method always expects a 2D array as the format of its inputs. And putting our values into a double pair of square brackets makes the input exactly a 2D array.<br>\n",
    "\n",
    "<u>Note 2</u>:<br>Notice also that the \"France\" country was not input as a string in the last column but as \"1, 0, 0\" in the first three columns. That's because of course the predict method expects the one-hot-encoded values of the state, and as we see in the first row of the matrix of features X, \"France\" was encoded as \"1, 0, 0\". And be careful to include these values in the first three columns, because the dummy variables are always created in the first columns."
   ]
  },
  {
   "cell_type": "markdown",
   "metadata": {},
   "source": [
    "**Predicting the Test set results**"
   ]
  },
  {
   "cell_type": "code",
   "execution_count": 80,
   "metadata": {},
   "outputs": [
    {
     "name": "stdout",
     "output_type": "stream",
     "text": [
      "[[0 0]\n",
      " [1 0]\n",
      " [0 0]\n",
      " ...\n",
      " [0 0]\n",
      " [0 0]\n",
      " [0 0]]\n"
     ]
    }
   ],
   "source": [
    "y_pred_proba = ann.predict(X_test)\n",
    "y_pred = y_pred_proba > 0.5\n",
    "print(np.concatenate((y_test.reshape(len(y_test),1),y_pred.reshape(len(y_pred),1)), axis = 1))"
   ]
  },
  {
   "cell_type": "markdown",
   "metadata": {},
   "source": [
    "**Making the Confusion Matrix**"
   ]
  },
  {
   "cell_type": "code",
   "execution_count": 81,
   "metadata": {},
   "outputs": [],
   "source": [
    "from sklearn.metrics import confusion_matrix, accuracy_score, classification_report"
   ]
  },
  {
   "cell_type": "code",
   "execution_count": 88,
   "metadata": {},
   "outputs": [
    {
     "name": "stdout",
     "output_type": "stream",
     "text": [
      "[[1521   74]\n",
      " [ 197  208]]\n"
     ]
    }
   ],
   "source": [
    "print(confusion_matrix(y_test, y_pred))"
   ]
  },
  {
   "cell_type": "code",
   "execution_count": 87,
   "metadata": {},
   "outputs": [
    {
     "name": "stdout",
     "output_type": "stream",
     "text": [
      "0.8645\n"
     ]
    }
   ],
   "source": [
    "print(accuracy_score(y_test, y_pred))"
   ]
  },
  {
   "cell_type": "code",
   "execution_count": 86,
   "metadata": {},
   "outputs": [
    {
     "name": "stdout",
     "output_type": "stream",
     "text": [
      "              precision    recall  f1-score   support\n",
      "\n",
      "           0       0.89      0.95      0.92      1595\n",
      "           1       0.74      0.51      0.61       405\n",
      "\n",
      "    accuracy                           0.86      2000\n",
      "   macro avg       0.81      0.73      0.76      2000\n",
      "weighted avg       0.86      0.86      0.85      2000\n",
      "\n"
     ]
    }
   ],
   "source": [
    "print(classification_report(y_test, y_pred))"
   ]
  },
  {
   "cell_type": "code",
   "execution_count": null,
   "metadata": {},
   "outputs": [],
   "source": []
  }
 ],
 "metadata": {
  "kernelspec": {
   "display_name": "Python 3",
   "language": "python",
   "name": "python3"
  },
  "language_info": {
   "codemirror_mode": {
    "name": "ipython",
    "version": 3
   },
   "file_extension": ".py",
   "mimetype": "text/x-python",
   "name": "python",
   "nbconvert_exporter": "python",
   "pygments_lexer": "ipython3",
   "version": "3.7.6"
  }
 },
 "nbformat": 4,
 "nbformat_minor": 4
}
