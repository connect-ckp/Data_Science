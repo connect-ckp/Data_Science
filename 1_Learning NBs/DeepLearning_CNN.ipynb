{
 "cells": [
  {
   "cell_type": "markdown",
   "metadata": {},
   "source": [
    "# Convolutional Neural Networks (CNN)"
   ]
  },
  {
   "cell_type": "markdown",
   "metadata": {},
   "source": [
    "**Importing the libraries**"
   ]
  },
  {
   "cell_type": "code",
   "execution_count": 3,
   "metadata": {},
   "outputs": [],
   "source": [
    "import tensorflow as tf\n",
    "from tensorflow.keras.preprocessing.image import ImageDataGenerator"
   ]
  },
  {
   "cell_type": "markdown",
   "metadata": {},
   "source": [
    "# 1. Data Preprocessing"
   ]
  },
  {
   "cell_type": "markdown",
   "metadata": {},
   "source": [
    "**Preprocessing the Training set**\n",
    "\n",
    "ImageDataGenerator: Generate batches of tensor image data with real-time `data augmentation`. The data will be looped over (in batches). Through shear, zoom and hor. flip, we are avoiding Overfitting."
   ]
  },
  {
   "cell_type": "code",
   "execution_count": 6,
   "metadata": {},
   "outputs": [
    {
     "name": "stdout",
     "output_type": "stream",
     "text": [
      "Found 8000 images belonging to 2 classes.\n"
     ]
    }
   ],
   "source": [
    "# Create the image augmentation tool.\n",
    "train_datagen = ImageDataGenerator(rescale = 1./255,\n",
    "                                   shear_range = 0.2,\n",
    "                                   zoom_range = 0.2,\n",
    "                                   horizontal_flip = True)\n",
    "\n",
    "traning_set = train_datagen.flow_from_directory('./Data/CNN_Dataset/training_set',\n",
    "                                                target_size = (64,64),\n",
    "                                                batch_size = 32,\n",
    "                                                class_mode = 'binary')\n",
    "                                                "
   ]
  },
  {
   "cell_type": "markdown",
   "metadata": {},
   "source": [
    "**Preprocessing the Test set**"
   ]
  },
  {
   "cell_type": "code",
   "execution_count": 7,
   "metadata": {},
   "outputs": [
    {
     "name": "stdout",
     "output_type": "stream",
     "text": [
      "Found 2000 images belonging to 2 classes.\n"
     ]
    }
   ],
   "source": [
    "test_datagen = ImageDataGenerator(rescale = 1./255)\n",
    "test_set = test_datagen.flow_from_directory('./Data/CNN_Dataset/test_set',\n",
    "                                            target_size = (64,64),\n",
    "                                            batch_size = 32,\n",
    "                                            class_mode = 'binary'\n",
    "                                            )"
   ]
  },
  {
   "cell_type": "markdown",
   "metadata": {},
   "source": [
    "# 2. Building the CNN"
   ]
  },
  {
   "cell_type": "markdown",
   "metadata": {},
   "source": [
    "**Initialising the CNN**"
   ]
  },
  {
   "cell_type": "code",
   "execution_count": 10,
   "metadata": {},
   "outputs": [],
   "source": [
    "cnn = tf.keras.models.Sequential()"
   ]
  },
  {
   "cell_type": "markdown",
   "metadata": {},
   "source": [
    "**Convolution Layer**"
   ]
  },
  {
   "cell_type": "code",
   "execution_count": 12,
   "metadata": {},
   "outputs": [],
   "source": [
    "cnn.add(tf.keras.layers.Conv2D(filters=32, kernel_size=3, activation='relu', input_shape=[64,64,3]))"
   ]
  },
  {
   "cell_type": "markdown",
   "metadata": {},
   "source": [
    "**Pooling Layer**"
   ]
  },
  {
   "cell_type": "code",
   "execution_count": 14,
   "metadata": {},
   "outputs": [],
   "source": [
    "cnn.add(tf.keras.layers.MaxPool2D(pool_size=(2,2), strides=2))"
   ]
  },
  {
   "cell_type": "markdown",
   "metadata": {},
   "source": [
    "**Second convolutional layer**"
   ]
  },
  {
   "cell_type": "code",
   "execution_count": 15,
   "metadata": {},
   "outputs": [],
   "source": [
    "cnn.add(tf.keras.layers.Conv2D(filters=32, kernel_size=3, activation='relu'))\n",
    "cnn.add(tf.keras.layers.MaxPool2D(pool_size=(2,2), strides=2))"
   ]
  },
  {
   "cell_type": "markdown",
   "metadata": {},
   "source": [
    "**Flattening**"
   ]
  },
  {
   "cell_type": "code",
   "execution_count": 16,
   "metadata": {},
   "outputs": [],
   "source": [
    "cnn.add(tf.keras.layers.Flatten())"
   ]
  },
  {
   "cell_type": "markdown",
   "metadata": {},
   "source": [
    "**Full Connection**"
   ]
  },
  {
   "cell_type": "code",
   "execution_count": 17,
   "metadata": {},
   "outputs": [],
   "source": [
    "# Build an ANN\n",
    "cnn.add(tf.keras.layers.Dense(units=128, activation='relu'))"
   ]
  },
  {
   "cell_type": "markdown",
   "metadata": {},
   "source": [
    "**Output Layer**"
   ]
  },
  {
   "cell_type": "code",
   "execution_count": 18,
   "metadata": {},
   "outputs": [],
   "source": [
    "cnn.add(tf.keras.layers.Dense(units=1, activation='sigmoid'))"
   ]
  },
  {
   "cell_type": "markdown",
   "metadata": {},
   "source": [
    "# 3. Training the CNN"
   ]
  },
  {
   "cell_type": "markdown",
   "metadata": {},
   "source": [
    "**Compiling the CNN**"
   ]
  },
  {
   "cell_type": "code",
   "execution_count": 20,
   "metadata": {},
   "outputs": [],
   "source": [
    "cnn.compile(optimizer='adam',loss='binary_crossentropy', metrics = ['accuracy'])"
   ]
  },
  {
   "cell_type": "markdown",
   "metadata": {},
   "source": [
    "**Training the CNN on the Training set and evaluating it on the Test set**"
   ]
  },
  {
   "cell_type": "code",
   "execution_count": 21,
   "metadata": {},
   "outputs": [
    {
     "name": "stdout",
     "output_type": "stream",
     "text": [
      "Epoch 1/25\n",
      "250/250 [==============================] - 159s 635ms/step - loss: 0.6822 - acc: 0.5585 - val_loss: 0.6396 - val_acc: 0.6310\n",
      "Epoch 2/25\n",
      "250/250 [==============================] - 148s 590ms/step - loss: 0.6198 - acc: 0.6584 - val_loss: 0.5946 - val_acc: 0.6785\n",
      "Epoch 3/25\n",
      "250/250 [==============================] - 150s 601ms/step - loss: 0.5768 - acc: 0.6960 - val_loss: 0.5963 - val_acc: 0.6840\n",
      "Epoch 4/25\n",
      "250/250 [==============================] - 132s 528ms/step - loss: 0.5287 - acc: 0.7390 - val_loss: 0.5135 - val_acc: 0.7575\n",
      "Epoch 5/25\n",
      "250/250 [==============================] - 133s 532ms/step - loss: 0.5044 - acc: 0.7531 - val_loss: 0.4808 - val_acc: 0.7640\n",
      "Epoch 6/25\n",
      "250/250 [==============================] - 141s 562ms/step - loss: 0.4813 - acc: 0.7641 - val_loss: 0.4799 - val_acc: 0.7785\n",
      "Epoch 7/25\n",
      "250/250 [==============================] - 151s 602ms/step - loss: 0.4643 - acc: 0.7789 - val_loss: 0.4776 - val_acc: 0.7665\n",
      "Epoch 8/25\n",
      "250/250 [==============================] - 163s 650ms/step - loss: 0.4511 - acc: 0.7881 - val_loss: 0.4498 - val_acc: 0.7860\n",
      "Epoch 9/25\n",
      "250/250 [==============================] - 148s 594ms/step - loss: 0.4326 - acc: 0.8008 - val_loss: 0.4453 - val_acc: 0.7955\n",
      "Epoch 10/25\n",
      "250/250 [==============================] - 146s 582ms/step - loss: 0.4075 - acc: 0.8125 - val_loss: 0.4539 - val_acc: 0.7850\n",
      "Epoch 11/25\n",
      "250/250 [==============================] - 148s 592ms/step - loss: 0.4006 - acc: 0.8202 - val_loss: 0.4311 - val_acc: 0.7980\n",
      "Epoch 12/25\n",
      "250/250 [==============================] - 139s 557ms/step - loss: 0.3866 - acc: 0.8260 - val_loss: 0.4274 - val_acc: 0.7965\n",
      "Epoch 13/25\n",
      "250/250 [==============================] - 137s 549ms/step - loss: 0.3709 - acc: 0.8341 - val_loss: 0.4525 - val_acc: 0.7920\n",
      "Epoch 14/25\n",
      "250/250 [==============================] - 136s 544ms/step - loss: 0.3586 - acc: 0.8395 - val_loss: 0.4388 - val_acc: 0.8160\n",
      "Epoch 15/25\n",
      "250/250 [==============================] - 140s 560ms/step - loss: 0.3409 - acc: 0.8470 - val_loss: 0.4299 - val_acc: 0.8010\n",
      "Epoch 16/25\n",
      "250/250 [==============================] - 145s 580ms/step - loss: 0.3358 - acc: 0.8537 - val_loss: 0.4293 - val_acc: 0.8085\n",
      "Epoch 17/25\n",
      "250/250 [==============================] - 133s 532ms/step - loss: 0.3205 - acc: 0.8572 - val_loss: 0.4653 - val_acc: 0.7940\n",
      "Epoch 18/25\n",
      "250/250 [==============================] - 133s 533ms/step - loss: 0.3157 - acc: 0.8611 - val_loss: 0.4317 - val_acc: 0.8120\n",
      "Epoch 19/25\n",
      "250/250 [==============================] - 132s 529ms/step - loss: 0.2955 - acc: 0.8725 - val_loss: 0.4542 - val_acc: 0.8105\n",
      "Epoch 20/25\n",
      "250/250 [==============================] - 133s 532ms/step - loss: 0.2945 - acc: 0.8699 - val_loss: 0.4677 - val_acc: 0.8075\n",
      "Epoch 21/25\n",
      "250/250 [==============================] - 132s 529ms/step - loss: 0.2795 - acc: 0.8781 - val_loss: 0.4557 - val_acc: 0.8070\n",
      "Epoch 22/25\n",
      "250/250 [==============================] - 132s 527ms/step - loss: 0.2642 - acc: 0.8881 - val_loss: 0.4527 - val_acc: 0.8085\n",
      "Epoch 23/25\n",
      "250/250 [==============================] - 133s 530ms/step - loss: 0.2591 - acc: 0.8875 - val_loss: 0.5103 - val_acc: 0.7930\n",
      "Epoch 24/25\n",
      "250/250 [==============================] - 75366s 301s/step - loss: 0.2468 - acc: 0.8985 - val_loss: 0.4992 - val_acc: 0.7950\n",
      "Epoch 25/25\n",
      "250/250 [==============================] - 175s 699ms/step - loss: 0.2481 - acc: 0.8944 - val_loss: 0.4845 - val_acc: 0.8205\n"
     ]
    },
    {
     "data": {
      "text/plain": [
       "<tensorflow.python.keras.callbacks.History at 0x248a1322bc8>"
      ]
     },
     "execution_count": 21,
     "metadata": {},
     "output_type": "execute_result"
    }
   ],
   "source": [
    "cnn.fit(x = traning_set, validation_data = test_set, epochs = 25)"
   ]
  },
  {
   "cell_type": "markdown",
   "metadata": {},
   "source": [
    "**Making a single prediction**"
   ]
  },
  {
   "cell_type": "code",
   "execution_count": null,
   "metadata": {},
   "outputs": [],
   "source": [
    "import numpy as np\n",
    "from keras.preprocessing import image\n",
    "test_image = image.load_img('./Data/CNN_Dataset/single_prediction/cat_or_dog_1.jpg', target_size = (64, 64))\n",
    "test_image = image.img_to_array(test_image)\n",
    "test_image = np.expand_dims(test_image, axis = 0)\n",
    "result = cnn.predict(test_image)\n",
    "training_set.class_indices\n",
    "if result[0][0] == 1:\n",
    "    prediction = 'dog'\n",
    "else:\n",
    "    prediction = 'cat'\n",
    "print(prediction)"
   ]
  },
  {
   "cell_type": "code",
   "execution_count": null,
   "metadata": {},
   "outputs": [],
   "source": []
  },
  {
   "cell_type": "code",
   "execution_count": null,
   "metadata": {},
   "outputs": [],
   "source": []
  },
  {
   "cell_type": "code",
   "execution_count": null,
   "metadata": {},
   "outputs": [],
   "source": []
  },
  {
   "cell_type": "code",
   "execution_count": null,
   "metadata": {},
   "outputs": [],
   "source": []
  },
  {
   "cell_type": "code",
   "execution_count": null,
   "metadata": {},
   "outputs": [],
   "source": []
  },
  {
   "cell_type": "code",
   "execution_count": null,
   "metadata": {},
   "outputs": [],
   "source": []
  },
  {
   "cell_type": "code",
   "execution_count": null,
   "metadata": {},
   "outputs": [],
   "source": []
  },
  {
   "cell_type": "code",
   "execution_count": null,
   "metadata": {},
   "outputs": [],
   "source": []
  },
  {
   "cell_type": "code",
   "execution_count": null,
   "metadata": {},
   "outputs": [],
   "source": []
  },
  {
   "cell_type": "code",
   "execution_count": null,
   "metadata": {},
   "outputs": [],
   "source": []
  },
  {
   "cell_type": "code",
   "execution_count": null,
   "metadata": {},
   "outputs": [],
   "source": []
  },
  {
   "cell_type": "code",
   "execution_count": null,
   "metadata": {},
   "outputs": [],
   "source": []
  }
 ],
 "metadata": {
  "kernelspec": {
   "display_name": "Python 3",
   "language": "python",
   "name": "python3"
  },
  "language_info": {
   "codemirror_mode": {
    "name": "ipython",
    "version": 3
   },
   "file_extension": ".py",
   "mimetype": "text/x-python",
   "name": "python",
   "nbconvert_exporter": "python",
   "pygments_lexer": "ipython3",
   "version": "3.7.6"
  }
 },
 "nbformat": 4,
 "nbformat_minor": 4
}
